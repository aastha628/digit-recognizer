{
 "cells": [
  {
   "cell_type": "code",
   "execution_count": null,
   "metadata": {},
   "outputs": [],
   "source": [
    "import joblib\n",
    "x=joblib.load('digit_recogniser')"
   ]
  },
  {
   "cell_type": "code",
   "execution_count": null,
   "metadata": {},
   "outputs": [],
   "source": [
    "import tkinter as tk\n",
    "from tkinter import *\n",
    "import PIL\n",
    "from PIL import Image, ImageDraw\n",
    "import time\n",
    "\n",
    "\n",
    "def save():\n",
    "    image.save(\"test/image.png\")\n",
    "    \n",
    "def clear():\n",
    "    cv.delete(\"all\")\n",
    "   \n",
    "def paint(event):\n",
    "    x1, y1 = (event.x), (event.y)\n",
    "    x2, y2 = (event.x + 1), (event.y + 1)\n",
    "    cv.create_oval((x1, y1, x2, y2), fill='black', width=20)\n",
    "    draw.line((x1, y1, x2, y2), fill='black', width=20)\n",
    "    \n",
    "time.sleep(1)\n",
    "root = Tk()\n",
    "root.title(\"Draw to Test\")\n",
    "cv = Canvas(root, width=200, height=200, bg='white')\n",
    "image = PIL.Image.new('RGB', (200,200), 'white')\n",
    "draw = ImageDraw.Draw(image)\n",
    "cv.bind('<B1-Motion>', paint)\n",
    "cv.pack(expand=YES, fill=BOTH)\n",
    "btn_save = Button(text=\"save\", command=save)\n",
    "btn_save.pack(side=tk.LEFT)\n",
    "btn_clear = Button(text=\"clear\", command=clear)\n",
    "btn_clear.pack()\n",
    "btn_quit = Button(text=\"quit\", command=root.destroy)\n",
    "btn_quit.pack(side=tk.RIGHT)\n",
    "cv.update()  \n",
    "root.mainloop()"
   ]
  },
  {
   "cell_type": "code",
   "execution_count": null,
   "metadata": {},
   "outputs": [],
   "source": [
    "import numpy as np\n",
    "import cv2\n",
    "from numpy import asarray\n",
    "from PIL import Image, ImageOps\n",
    "for k in range(10):\n",
    "    for l in range(10):\n",
    "      \n",
    "        im_final=cv2.imread(\"test/image.png\")\n",
    "        im_final=cv2.resize(im_final,(30,30))\n",
    "        cv2.imwrite(\"test/image.png\",im_final)\n",
    "        image = Image.open(\"test/image.png\")\n",
    "        img = ImageOps.grayscale(image)\n",
    "        img.save(\"test/image.png\")\n",
    "        im = np.array(Image.open(\"test/image.png\"))\n",
    "        arr=[]\n",
    "        for i in range(30):\n",
    "            for j in range(30):\n",
    "                arr.append(im[i][j])"
   ]
  },
  {
   "cell_type": "code",
   "execution_count": null,
   "metadata": {},
   "outputs": [],
   "source": [
    "x.predict([arr])"
   ]
  }
 ],
 "metadata": {
  "kernelspec": {
   "display_name": "Python 3",
   "language": "python",
   "name": "python3"
  },
  "language_info": {
   "codemirror_mode": {
    "name": "ipython",
    "version": 3
   },
   "file_extension": ".py",
   "mimetype": "text/x-python",
   "name": "python",
   "nbconvert_exporter": "python",
   "pygments_lexer": "ipython3",
   "version": "3.8.5"
  }
 },
 "nbformat": 4,
 "nbformat_minor": 4
}
