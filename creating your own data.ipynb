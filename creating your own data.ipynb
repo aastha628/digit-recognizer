{
 "cells": [
  {
   "cell_type": "code",
   "execution_count": null,
   "metadata": {},
   "outputs": [],
   "source": [
    "# warning: do not run unless you are ready to save your 100 images!!!! or just to check first change the range of i and j\n",
    "\n",
    "import tkinter as tk\n",
    "from tkinter import *\n",
    "import PIL\n",
    "from PIL import Image, ImageDraw\n",
    "import time\n",
    "\n",
    "def save(i,j):\n",
    "    image.save(\"train/\"+str(j)+\"/image\"+str(i)+\".png\")\n",
    "\n",
    "def clear():\n",
    "    cv.delete(\"all\")\n",
    "   \n",
    "def paint(event):\n",
    "    x1, y1 = (event.x), (event.y)\n",
    "    x2, y2 = (event.x + 1), (event.y + 1)\n",
    "    cv.create_oval((x1, y1, x2, y2), fill='black', width=20)\n",
    "    draw.line((x1, y1, x2, y2), fill='black', width=20)\n",
    "\n",
    "        \n",
    "for j in range(10):\n",
    "    \n",
    "    for i in range(10):\n",
    "        time.sleep(2)\n",
    "        root = Tk()\n",
    "        root.title(str(j)+\" : \"+str(i))\n",
    "        cv = Canvas(root, width=200, height=200, bg='white')\n",
    "        image = PIL.Image.new('RGB', (200,200), 'white')\n",
    "        draw = ImageDraw.Draw(image)\n",
    "        cv.bind('<B1-Motion>', paint)\n",
    "        cv.pack(expand=YES, fill=BOTH)\n",
    "        btn_save = Button(text=\"save\", command=lambda: save(i,j))\n",
    "        btn_save.pack(side=tk.LEFT)\n",
    "        btn_clear = Button(text=\"clear\", command=clear)\n",
    "        btn_clear.pack()\n",
    "        btn_quit = Button(text=\"quit\", command=root.destroy)\n",
    "        btn_quit.pack(side=tk.RIGHT)\n",
    "        cv.update()  \n",
    "        root.mainloop() "
   ]
  }
 ],
 "metadata": {
  "kernelspec": {
   "display_name": "Python 3",
   "language": "python",
   "name": "python3"
  },
  "language_info": {
   "codemirror_mode": {
    "name": "ipython",
    "version": 3
   },
   "file_extension": ".py",
   "mimetype": "text/x-python",
   "name": "python",
   "nbconvert_exporter": "python",
   "pygments_lexer": "ipython3",
   "version": "3.8.5"
  }
 },
 "nbformat": 4,
 "nbformat_minor": 4
}
