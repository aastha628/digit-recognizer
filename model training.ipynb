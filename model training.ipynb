{
 "cells": [
  {
   "cell_type": "code",
   "execution_count": null,
   "metadata": {},
   "outputs": [],
   "source": [
    "import numpy as np\n",
    "import cv2\n",
    "from numpy import asarray\n",
    "from PIL import Image, ImageOps\n",
    "lst=[]\n",
    "target=[]\n",
    "for k in range(10):\n",
    "    for l in range(10):\n",
    "      \n",
    "        im_final=cv2.imread(\"train/\"+str(k)+\"/image\"+str(l)+\".png\")\n",
    "        im_final=cv2.resize(im_final,(30,30))\n",
    "        cv2.imwrite(\"train/\"+str(k)+\"/image\"+str(l)+\".png\",im_final)\n",
    "        image = Image.open(\"train/\"+str(k)+\"/image\"+str(l)+\".png\")\n",
    "        img = ImageOps.grayscale(image)\n",
    "        img.save(\"train/\"+str(k)+\"/image\"+str(l)+\".png\")\n",
    "        im = np.array(Image.open(\"train/\"+str(k)+\"/image\"+str(l)+\".png\"))\n",
    "        target.append(k)\n",
    "        arr=[]\n",
    "        for i in range(30):\n",
    "            for j in range(30):\n",
    "                arr.append(im[i][j])\n",
    "\n",
    "        lst.append(arr)"
   ]
  },
  {
   "cell_type": "code",
   "execution_count": null,
   "metadata": {},
   "outputs": [],
   "source": [
    "import pandas as pd\n",
    "df=pd.DataFrame(lst)"
   ]
  },
  {
   "cell_type": "code",
   "execution_count": null,
   "metadata": {},
   "outputs": [],
   "source": [
    "from sklearn.model_selection import train_test_split\n",
    "x_train,x_test,y_train,y_test=train_test_split(df,target,test_size=0.2)"
   ]
  },
  {
   "cell_type": "code",
   "execution_count": null,
   "metadata": {},
   "outputs": [],
   "source": [
    "from sklearn.ensemble import RandomForestClassifier\n",
    "model=RandomForestClassifier()\n",
    "model.fit(x_train,y_train)"
   ]
  },
  {
   "cell_type": "code",
   "execution_count": null,
   "metadata": {},
   "outputs": [],
   "source": [
    "import joblib\n",
    "joblib.dump(model,'digit_recogniser')"
   ]
  }
 ],
 "metadata": {
  "kernelspec": {
   "display_name": "Python 3",
   "language": "python",
   "name": "python3"
  },
  "language_info": {
   "codemirror_mode": {
    "name": "ipython",
    "version": 3
   },
   "file_extension": ".py",
   "mimetype": "text/x-python",
   "name": "python",
   "nbconvert_exporter": "python",
   "pygments_lexer": "ipython3",
   "version": "3.8.5"
  }
 },
 "nbformat": 4,
 "nbformat_minor": 4
}
